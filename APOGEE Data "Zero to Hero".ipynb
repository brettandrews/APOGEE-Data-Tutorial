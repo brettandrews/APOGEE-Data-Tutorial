{
 "cells": [
  {
   "cell_type": "markdown",
   "metadata": {},
   "source": [
    "#APOGEE Data:  \"Zero to Hero\"\n",
    "TODO Add TOC\n",
    "[Description](#Description)"
   ]
  },
  {
   "cell_type": "markdown",
   "metadata": {},
   "source": [
    "Description\n",
    "=============\n",
    "\n",
    "### What this is\n",
    "\n",
    "  An exectuable, interactive Ipython Notebook designed to quickly get\n",
    "  novices up and running with APOGEE data. By the end of this tutorial,\n",
    "  you will be able to :\n",
    "  - Download the APOGEE Summary file\n",
    "  - Read the APOGEE Summary file into memory\n",
    "  - Define \"clean\" samples by making cuts on tageting and reduction\n",
    "    flags\n",
    "  - Make exciting plots of APOGEE data\n",
    "\n",
    "  Along the way, you will also learn more about the APOGEE data model\n",
    "  and bitmasks.\n",
    "\n",
    "\n",
    "### What this isn't\n",
    "\n",
    "  A comprehensive guide to the APOGEE survey and data products. Please\n",
    "  see the official APOGEE documenation at\n",
    "  [http://www.sdss.org/dr12/irspec/] for a more through understanding of\n",
    "  the APOGEE database. Below, we provide links to this documentation\n",
    "  where appropriate. [http://www.sdss.org/dr12/irspec/catalogs/] is the\n",
    "  best place to start further educating yourself about APOGEE\n",
    "  parameters. [Official papers?]\n",
    "\n",
    "\n"
   ]
  },
  {
   "cell_type": "markdown",
   "metadata": {},
   "source": [
    "Sources/Thanks\n",
    "================\n",
    "\n",
    "  The material herein is a result of the whole APOGEE team.\n",
    "\n",
    "\n",
    "Requirements\n",
    "==============\n",
    "\n",
    "  This tutorial is written in Python 2.7. Python 3+ *should* work with\n",
    "  minimal effort from the user. Additional python modules required:\n",
    "  - numpy\n",
    "  - pyfits\n",
    "  - matplotlib\n",
    "\n",
    "  Optional:\n",
    "\n",
    "  + APOGEE module [[https://github.com/jobovy/apogee]] Jo Bovy has\n",
    "    written an excellent python module designed to interact and\n",
    "    manipulate APOGEE data. It simplifies many of the basic operations\n",
    "    we will cover below and also provides more advanced tools for\n",
    "    dealing with individual APOGEE spectra. Highly recommended!\n",
    "\n",
    "  This notebook will likely still be valuable to you, but less so, if\n",
    "  you are using a language other than python. There are official data\n",
    "  exploration examples using the CAS database, IDL, or python at\n",
    "  [http://www.sdss.org/dr12/irspec/catalogs/#ExamplesofselectingAPOGEEdatafromcatalogs]\n",
    "  .\n",
    "\n"
   ]
  },
  {
   "cell_type": "markdown",
   "metadata": {},
   "source": [
    "4 The Summary File\n",
    "==================\n",
    "\n",
    "  The APOGEE *allStar* summary FITS table is arguably the easiest way to\n",
    "  interact with APOGEE parameters. Many within the collaboration prefer\n",
    "  interacting with this file instead of the SDSS CAS (despite the\n",
    "  splendid design of the CAS). The fact that the entirety of APOGEE-1\n",
    "  summary parameters is less than 1 GB in size makes it incredibly easy\n",
    "  to work with the APOGEE dataset. The allStar file \"\"\" provides\n",
    "  information for each individual star observed in APOGEE-1, which\n",
    "  includes mean barycentric radial velocity, the standard deviation of\n",
    "  the mean velocity, ASPCAP parameters and abundances as derived from\n",
    "  the combined spectra, and a compilation of ancillary targeting data.\n",
    "  \"\"\" - [http://www.sdss.org/dr12/irspec/catalogs/]\n",
    "\n",
    "  The latest, official Data Release is SDSS DR12. The APOGEE summary\n",
    "  file for this release is availabe at\n",
    "  [http://data.sdss3.org/sas/dr12/apogee/spectro/redux/r5/allStar-v603.fits]\n",
    "  (~683 MB)\n",
    "\n",
    "\n"
   ]
  },
  {
   "cell_type": "markdown",
   "metadata": {},
   "source": [
    "### 4.1 Summary File Structure and Data model\n",
    "\n",
    "  The Summary file is a FITS table, a common astronomical file format. A\n",
    "  full description of the file's contents, including the table columns\n",
    "  and datatypes, is available at:\n",
    "  [https://data.sdss.org/datamodel/files/APOGEE_REDUX/APRED_VERS/APSTAR_VERS/ASPCAP_VERS/RESULTS_VERS/allStar.html]\n",
    "  [This was password protected for me, check?]\n",
    "\n"
   ]
  },
  {
   "cell_type": "markdown",
   "metadata": {},
   "source": [
    "5 Getting the Data\n",
    "==================\n",
    "\n",
    "  **Option 1**: Directly download the allStar file from:\n",
    "  [http://data.sdss3.org/sas/dr12/apogee/spectro/redux/r5/allStar-v603.fits]\n",
    "\n",
    "  **Option 2**: Run through the code below. The allStar file will\n",
    "  automatically be downloaded.\n",
    "\n",
    "If you have already downloaded the allStar file, the code below will skip that step automatically provided the [`data_directory`](#6 Data off disk and into memory) variable below is defined correctly."
   ]
  },
  {
   "cell_type": "markdown",
   "metadata": {},
   "source": [
    "##6 Data off disk and into memory\n",
    "\n",
    "### 6.1 Python Preamble and APOGEE DATA path\n",
    "\n",
    "  *MAKE SURE TO DEFINE YOUR DATA PATH BELOW* [#datadir]\n",
    "\n",
    "  The `data_directory` variable is the diretory where your summary\n",
    "  file is located OR where you want the summary file downloaded. Make sure this\n",
    "  path exists on your local machine."
   ]
  },
  {
   "cell_type": "code",
   "execution_count": null,
   "metadata": {
    "collapsed": true
   },
   "outputs": [],
   "source": [
    "from __future__ import print_function\n",
    "import numpy as np\n",
    "import os\n",
    "import matplotlib\n",
    "from matplotlib import pyplot as plt\n",
    "%matplotlib inline\n",
    "\n",
    "###Plot formatting commands\n",
    "plt.rc('figure', figsize=(10.0, 7.1))\n",
    "plt.rc('xtick', labelsize=14)\n",
    "plt.rc('ytick', labelsize=14)\n",
    "###End formatting commands\n",
    "\n",
    "data_directory = \"/hd1/obs_data/apogee/\"  #### CHANGE THIS PATH!!\n",
    "\n",
    "if not os.path.exists(data_directory):\n",
    "    print(\"\\nMake sure the data_directory path exists!\\n\")\n",
    "else:\n",
    "    print(\"Woohoo! Let's get started!\")"
   ]
  },
  {
   "cell_type": "markdown",
   "metadata": {},
   "source": [
    "### 6.2 Reading the allStar File\n",
    "\n",
    "  There are two easy methods for reading the allStar file into memory.\n",
    "  **Please execute EITHER the pyfits module code OR the apogee code blocks\n",
    "  below.** Running both will likely lead to problems.\n"
   ]
  },
  {
   "cell_type": "markdown",
   "metadata": {},
   "source": [
    "#### Option 1: `pyfits`\n",
    "\n",
    "  For more information about PyFITS, see\n",
    "  [http://www.stsci.edu/institute/software_hardware/pyfits]. Note that\n",
    "  pyfits is the precursor to the astropy.io.fits package, so users\n",
    "  familiar with astropy can substitute astropy.io.fits for pyfits below.\n"
   ]
  },
  {
   "cell_type": "code",
   "execution_count": null,
   "metadata": {
    "collapsed": true
   },
   "outputs": [],
   "source": [
    "import urllib # python module to optionally download catalog\n",
    "import pyfits\n",
    "\n",
    "allStar_file = 'allStar-v603.fits'\n",
    "allStar_localpath = data_directory+allStar_file\n",
    "\n",
    "allStar_file_link = \"http://data.sdss3.org/sas/dr12/apogee/spectro/redux/r5/allStar-v603.fits\"\n",
    "\n",
    "#Download allStar file if it does not exist\n",
    "if not os.path.exists(allStar_localpath):\n",
    "    urllib.urlretrieve(allStar_file_link, filename=allStar_localpath)\n",
    "\n",
    "allStar_fits = pyfits.open(allStar_localpath)\n",
    "allStar = allStar_fits[1].data #Takes data is HDU 1 and assigns it to allStar"
   ]
  },
  {
   "cell_type": "markdown",
   "metadata": {},
   "source": [
    "#### Option 2: `APOGEE`\n",
    "\n",
    "\n",
    "  We refer the user to [[https://github.com/jobovy/apogee]] for\n",
    "  installation instuctions and assume you have a working install in the\n",
    "  remainder of the notebook.\n"
   ]
  },
  {
   "cell_type": "code",
   "execution_count": null,
   "metadata": {
    "collapsed": false
   },
   "outputs": [],
   "source": [
    "os.environ['APOGEE_DATA'] = data_directory\n",
    "os.environ['APOGEE_REDUX'] = 'v603' #DR12 reduction version\n",
    "\n",
    "import apogee.tools.read as apread\n",
    "allStar= apread.allStar()  #will automatically download if catalog not available\n",
    "print (\"AllStar file Loaded\")\n"
   ]
  },
  {
   "cell_type": "markdown",
   "metadata": {},
   "source": [
    "### 6.3 The APOGEE allStar catalog\n",
    "\n",
    "\n",
    "  Using either pyfits or apogee, the allStar variable is now a numpy\n",
    "  record array, a wrapper around numpy.ndarray\n",
    "  ([http://docs.scipy.org/doc/numpy/reference/generated/numpy.ndarray.html]). You can see the number of summary file entries with\n",
    "\n",
    "\n"
   ]
  },
  {
   "cell_type": "code",
   "execution_count": null,
   "metadata": {
    "collapsed": false
   },
   "outputs": [],
   "source": [
    "allStar.shape"
   ]
  },
  {
   "cell_type": "markdown",
   "metadata": {},
   "source": [
    "and the available data fields (This will print out every data field name in the `allStar` file)"
   ]
  },
  {
   "cell_type": "code",
   "execution_count": null,
   "metadata": {
    "collapsed": false
   },
   "outputs": [],
   "source": [
    "allStar.dtype.fields"
   ]
  },
  {
   "cell_type": "markdown",
   "metadata": {},
   "source": [
    "7 Data Model, columns of interest\n",
    "=================================\n",
    "\n",
    "A lot of your interaction with the APOGEE catalog will be through pulling out the information that interests you from the `allStar` file. It's a good idea to later familiarize yourself with the file.\n",
    "\n",
    "The APOGEE Summary file data model can be found  http://data.sdss3.org/datamodel/files/APOGEE_REDUX/APRED_VERS/APSTAR_VERS/ASPCAP_VERS/RESULTS_VERS/allStar.html\n",
    " \n",
    " A non-exhaustive list of important fields (some of which we will use below):\n",
    "\n",
    "| Field          | dtype    | units     | description                                                                                                                             |\n",
    "| ---            | ----     | ----      | ----                                                                                                                                    |\n",
    "| APSTAR_ID      | char[37] |           | Unique apStar identifier: apogee.[ns].[sc].APSTAR_VERS.LOC.STAR, where [ns] is for APOGEE North/South, [sc] is for survey/commissioning |\n",
    "| ASPCAP_ID      | char[36] |           | Unique ASPCAP identifier: apogee.[ns].[sc].RESULTS_VERS.LOC.STAR                                                                        |\n",
    "| APOGEE_ID      | char[18] |           | TMASS-STYLE object name                                                                                                                 |\n",
    "| J              | float32  |           | 2MASS J mag                                                                                                                             |\n",
    "| H              | float32  |           | 2MASS H mag                                                                                                                             |\n",
    "| K              | float32  |           | 2MASS Ks                                                                                                                                |\n",
    "| GLON           | float64  | degrees   | Galactic                                                                                                                                |\n",
    "| GLAT           | float64  | degrees   | Galactic                                                                                                                                |\n",
    "| AK_TARG        | float32  |           | K-band extinction adopted for                                                                                                           |\n",
    "| APOGEE_TARGET1 | int32    |           | first APOGEE target flag, see bitmask definitions                                                                                       |\n",
    "| APOGEE_TARGET2 | int32    |           | second APOGEE target flag, see bitmask                                                                                                  |\n",
    "| COMMISS        | int16    |           | =1 for commissioning data (before July 2011), else 0                                                                                    |\n",
    "| SNR            | float32  |           | median S/N per pixel in combined frame (at apStar sampling                                                                              |\n",
    "| STARFLAG       | int32    |           | Flag for star condition taken from bitwise OR of individual visits, see bitmask                                                         |\n",
    "| VHELIO_AVG     | float32  | km/s      | average radial velocity, weighted by S/N, using RVs determined from cross-correlation of individual spectra with combined               |\n",
    "| VSCATTER       | float32  | km/s      | scatter of individual visit RVs around                                                                                                  |\n",
    "| TEFF           | float32  | K         | Teff from ASPCAP analysis of combined spectrum (from PARAM)                                                                             |\n",
    "| LOGG           | float32  | log (cgs) | log g from ASPCAP analysis of combined spectrum (from PARAM)                                                                            |\n",
    "| METALS         | float32  | dex       | [Z/H] from ASPCAP analysis of combined spectrum (from PARAM)                                                                            |\n",
    "| ALPHAFE        | float32  | dex       | [alpha/Fe] from ASPCAP analysis of combined spectrum (from PARAM)                                                                       |\n",
    "| ASPCAPFLAG     | int32    |           | Flag for  ASPCAP analysis, see bitmask                                                                                                  |\n",
    "| PARAMFLAG      | int32[7] |           | Individual parameter flag for ASPCAP analysis, see bitmask                                                                              |\n"
   ]
  },
  {
   "cell_type": "markdown",
   "metadata": {},
   "source": [
    "7.0.1 Sky map of the APOGEE Catalog\n",
    "-----------------------------------\n",
    "\n",
    "  Now that you have loaded the catalog, we can make our first plot! Let's make a sky map of the APOGEE catalog.\n",
    "\n",
    "  - Maybe mention Kepler field here\n",
    "  - Need to ask Gail about her plots\n",
    "\n"
   ]
  },
  {
   "cell_type": "code",
   "execution_count": null,
   "metadata": {
    "collapsed": true
   },
   "outputs": [],
   "source": [
    "fig =plt.figure()\n",
    "ax = plt.subplot(111) ## Ask Gail how she does the box around the projection, projection='mollweide') # set up projection\n",
    "# For pretty plotting, make longitude negative relative to Galactic center.␣\n",
    "l_corr_inds = allStar['GLON']>180 #indices for GLON correction\n",
    "l_corr = allStar['GLON'].copy() # just to be safe,\n",
    "l_corr[l_corr_inds] -=360\n",
    "ax.scatter(l_corr, allStar['GLAT'], edgecolor='none', alpha=0.3)\n",
    "ax.set_xlim(180,-180)\n",
    "ax.set_xlabel('Galactic Longitude')\n",
    "ax.set_ylabel('Galactic Latitude')"
   ]
  },
  {
   "cell_type": "markdown",
   "metadata": {},
   "source": [
    "8 Clean samples, Targeting / Reduction flags\n",
    "============================================\n",
    "\n",
    "  Before doing any science with APOGEE, you will likely want a \"clean\"\n",
    "  sample of stars. APOGEE has many special types of targets (calibration\n",
    "  clusters, commissioning data, etc.; you can read more about the types\n",
    "  of targets HERE). Below, we assume that you are interested in the\n",
    "  \"main\" survey targets (defined below).\n",
    "\n",
    "\n",
    "### 8.1 A Quick Aside: Bitmasks\n",
    "\n",
    "\n",
    "  If you are unfamiliar with bitmasks, SDSS has published a great\n",
    "  primer: [http://www.sdss.org/dr12/algorithms/bitmasks]. In short,\n",
    "  bitmasks provide an easy way to ask many True/False questions about an\n",
    "  object without the need for independent variables. Let's look at a\n",
    "  quick example.\n",
    "  \n"
   ]
  },
  {
   "cell_type": "code",
   "execution_count": null,
   "metadata": {
    "collapsed": true
   },
   "outputs": [],
   "source": [
    "allStar['APOGEE_TARGET1'][2]"
   ]
  },
  {
   "cell_type": "markdown",
   "metadata": {},
   "source": [
    "Above is the APOGEE_TARGET1 bitmask for a single star. A\n",
    "  full description of the available bits in APOGEE_TARGET1 is available\n",
    "  at [http://www.sdss.org/dr12/algorithms/bitmasks/#APOGEE_TARGET1].\n",
    "\n",
    "  Each bit in the bitmask above contains information about the target. Note that all valid APOGEE targets have the 31st bit set."
   ]
  },
  {
   "cell_type": "markdown",
   "metadata": {},
   "source": [
    "This object is part of a 'short' cohort (see Zasowski+ for\n",
    "  description), so the 11th bit is also set. You can check the value of a particular bit using the bitwise `and` operator."
   ]
  },
  {
   "cell_type": "code",
   "execution_count": null,
   "metadata": {
    "collapsed": true
   },
   "outputs": [],
   "source": [
    "allStar['APOGEE_TARGET1'][2] & 2**11"
   ]
  },
  {
   "cell_type": "markdown",
   "metadata": {},
   "source": [
    "The result will be non-zero if the bit is set; otherwise it will be zero."
   ]
  },
  {
   "cell_type": "code",
   "execution_count": null,
   "metadata": {
    "collapsed": true
   },
   "outputs": [],
   "source": [
    "allStar['APOGEE_TARGET1'][2] & 2**15 #not set"
   ]
  },
  {
   "cell_type": "markdown",
   "metadata": {},
   "source": [
    "Below, we will be using a series of cuts on the APOGEE bitmasks to define our\n",
    "  \"clean\" sample. \n",
    "\n",
    "  Links to other APOGEE bitmasks that we will use can be found at:\n",
    "  [http://www.sdss.org/dr12/algorithms/bitmasks/#APOGEE_TARGET2]\n",
    "  [http://www.sdss.org/dr12/algorithms/bitmasks/#APOGEE_ASPCAPFLAG]\n",
    "\n"
   ]
  },
  {
   "cell_type": "markdown",
   "metadata": {},
   "source": [
    "### Defining the \"Main\" Sample\n",
    "\n",
    "\n",
    "  Main survey targets (excludes standards, known structure targets,\n",
    "  e.g., cluster members, tarteged pointings) are members of a short,\n",
    "  medium, or long cohort. The cohorts are defined by dereddened\n",
    "  magnitude cuts (as described in Zasowski+ and at the APOGEE Targeting\n",
    "  Information page [http://www.sdss.org/dr12/irspec/targets/]).\n",
    "\n",
    "  Short, medium, and long cohort targets are desginated by bits 11,12,\n",
    "  and 13 in APOGEE_TARGET1. Let's create a boolean mask that returns all\n",
    "  stars that are in one of these cohort groups."
   ]
  },
  {
   "cell_type": "code",
   "execution_count": null,
   "metadata": {
    "collapsed": false
   },
   "outputs": [],
   "source": [
    "mainIndx = (allStar['APOGEE_TARGET1'] & 2**11 !=0) | (allStar['APOGEE_TARGET1'] & 2**12 != 0) | (allStar['APOGEE_TARGET1'] & 2**13 !=0)"
   ]
  },
  {
   "cell_type": "markdown",
   "metadata": {},
   "source": [
    "`mainIndx` is now an array with the same shape as allStar whose elements\n",
    "  are True IF the star is a short, medium, or long cohort star. \n",
    "\n"
   ]
  },
  {
   "cell_type": "code",
   "execution_count": null,
   "metadata": {
    "collapsed": true
   },
   "outputs": [],
   "source": [
    "mainIndx"
   ]
  },
  {
   "cell_type": "markdown",
   "metadata": {},
   "source": [
    "Let's define a new variable to point towards all of the 'Main' targets in the APOGEE catalog."
   ]
  },
  {
   "cell_type": "code",
   "execution_count": null,
   "metadata": {
    "collapsed": false
   },
   "outputs": [],
   "source": [
    "mainStar = allStar[mainIndx]"
   ]
  },
  {
   "cell_type": "markdown",
   "metadata": {},
   "source": [
    "9 Plot: The RV distribution of the inner galaxy\n",
    "==========================================================\n",
    "\n",
    "  Let's look at the line of sight velocity distribution for stars in the\n",
    "  inner Galaxy.\n",
    "\n",
    "First, spatially define the inner Galaxy. Here, let's pick all stars with\n",
    "    -15 < $l$ < 15 and close to the plane of the disk: -5 < $b$ < 5.\n"
   ]
  },
  {
   "cell_type": "code",
   "execution_count": null,
   "metadata": {
    "collapsed": false
   },
   "outputs": [],
   "source": [
    "inner_galaxy_mask = np.logical_or(mainStar['GLON']>345.0, mainStar['GLON']<15.0)  & (np.abs(mainStar['GLAT'])< 5)"
   ]
  },
  {
   "cell_type": "markdown",
   "metadata": {},
   "source": [
    " We can check for the number of stars that meet this criteria by asking\n",
    "  for the sum of the mask (True=1 and False=0)"
   ]
  },
  {
   "cell_type": "code",
   "execution_count": null,
   "metadata": {
    "collapsed": true
   },
   "outputs": [],
   "source": [
    "np.sum(inner_galaxy_mask)"
   ]
  },
  {
   "cell_type": "markdown",
   "metadata": {},
   "source": [
    "  Now let's look at the distribution of radial velocities for main\n",
    "  survey targets towards the inner galaxy."
   ]
  },
  {
   "cell_type": "code",
   "execution_count": null,
   "metadata": {
    "collapsed": true
   },
   "outputs": [],
   "source": [
    "plt.hist(mainStar[inner_galaxy_mask]['VHELIO_AVG'], bins = np.arange(-500,500,20))\n",
    "plt.xlabel('VHELIO_AVG [km/s]', fontsize=15)\n",
    "plt.ylabel('Number of Stars', fontsize=15)\n"
   ]
  },
  {
   "cell_type": "markdown",
   "metadata": {},
   "source": [
    "\n",
    "  Beautiful! We find a sharp peak at VHELIO_AVG~ 0 km/s because many\n",
    "  stellar orbits are perpindicular to our line of sight when we look\n",
    "  towards the Galactic center.\n"
   ]
  },
  {
   "cell_type": "markdown",
   "metadata": {},
   "source": [
    "10 Galactic Plane Metallicity Maps\n",
    "=========================\n",
    " \n",
    "\n",
    "  This next plot is loosely based on the kinematics maps from Ness et al., i\n",
    "n prep. (2015). Here we will map the metallicity of $l<180^{\\circ}$ sightlines in the Galactic plane.\n",
    "\n",
    "To group neighboring stars, the code below makes use of `hexbin` from the \n",
    "`matplotlib` library. From http://matplotlib.org/api/pyplot_api.html, `hexbin` will\n",
    "  \n",
    ">Make a hexagonal binning plot of x versus y, where x, y are 1-D sequenc\n",
    "es of the same length, N. If C is None (the default), this is a histogram of\n",
    "the number of occurences of the observations at (x[i],y[i]).\n",
    " \n"
   ]
  },
  {
   "cell_type": "code",
   "execution_count": null,
   "metadata": {
    "collapsed": true
   },
   "outputs": [],
   "source": [
    "#define our zone of spatial interest\n",
    "galactic_plane_mask = np.logical_and(mainStar['GLON']>0, mainStar['GLON']<180.0)  & (np.abs(mainStar['GLAT'])< 15)\n",
    "planeSamp = mainStar[galactic_plane_mask] # all stars that are main targets and are in the \n",
    "#inner_galaxy mask we created earlier\n",
    "\n",
    "#Correct for GLON\n",
    "#GLON_plot = centralSamp['GLON'].copy()  # to ensure we don't modify GLON\n",
    "#GLON_plot[GLON_plot>180] = GLON_plot[GLON_plot>180]-360"
   ]
  },
  {
   "cell_type": "code",
   "execution_count": null,
   "metadata": {
    "collapsed": true
   },
   "outputs": [],
   "source": [
    "plt.hexbin(planeSamp['GLON'], planeSamp['GLAT'], C=planeSamp['FE_H'],\n",
    "           reduce_C_function=np.mean, gridsize=30)\n",
    "plt.xlabel('Galactic Longitude', fontsize=16)\n",
    "plt.ylabel('Galactic Latitude', fontsize=16)\n",
    "cb = plt.colorbar(label='[Fe/H]')\n",
    "#Label Colorbar"
   ]
  },
  {
   "cell_type": "markdown",
   "metadata": {},
   "source": [
    "The hexagons above are colored by the mean metallicity of all the stars that have the labeled Galactic longitude and latitude. **WHAT HAPPENED?** How could the mean metallicity of some regions be ~-10000? Before we publish our miraculously discovery, we should make sure that the reduction and ASPCAP pipeline does not report any errors for these stars. "
   ]
  },
  {
   "cell_type": "markdown",
   "metadata": {},
   "source": [
    "To makes sure our results are robust, we should only use stars that:\n",
    "\n",
    " - are non-commissioning data (`commision_mask`) via the 'COMMISS' data field of the allStar file.\n",
    " - do not cause errors in the general ASPCAP pipeline (`starbad_mask`) via the 'STAR_BAD' bit of the ASPCAPFLAG bitmask (detailed at http://www.sdss.org/dr12/algorithms/bitmasks/#APOGEE_ASPCAPFLAG)\n",
    " - had an error-free [Fe/H] abundance determination (`feh_mask`) via the 'GRIDEDGE_BAD', 'CALRANGE_BAD', and 'OTHER_BAD' bits in the individual element bitmask (detailed at bhttp://www.sdss.org/dr12/algorithms/bitmasks/#APOGEE_PARAMFLAG)\n",
    "\n"
   ]
  },
  {
   "cell_type": "code",
   "execution_count": null,
   "metadata": {
    "collapsed": true
   },
   "outputs": [],
   "source": [
    "commission_mask = (mainStar['COMMISS']==0)\n",
    "starbad_mask = (mainStar['ASPCAPFLAG'] & 2**23 ==0)\n",
    "feh_mask = (mainStar['FE_H_FLAG'] & 2**0 ==0) & (mainStar['FE_H_FLAG'] & 2**1 ==0)& (mainStar['FE_H_FLAG'] & 2**2 ==0)\n",
    "\n",
    "#Now sample is all inner_galaxy stars that ALSO meet the criteria above\n",
    "cleanPlaneSamp = mainStar[galactic_plane_mask &  feh_mask & commission_mask & starbad_mask]\n",
    "\n",
    "plt.hexbin(cleanPlaneSamp['GLON'], cleanPlaneSamp['GLAT'], C=cleanPlaneSamp['FE_H'],\n",
    "           reduce_C_function=np.mean, gridsize=30)\n",
    "plt.xlabel('Galactic Longitude', fontsize=16)\n",
    "plt.ylabel('Galactic Latitude', fontsize=16)\n",
    "cb = plt.colorbar(label='[Fe/H]')"
   ]
  },
  {
   "cell_type": "markdown",
   "metadata": {},
   "source": [
    "Awesome! We now see the metallicity of the central region of the Galaxy as a function of position. **Comment on metallicity gradient**"
   ]
  },
  {
   "cell_type": "markdown",
   "metadata": {
    "collapsed": true
   },
   "source": [
    "# 11 Plot: Metallicity vs. RV for Quadrant 2 Stars"
   ]
  },
  {
   "cell_type": "markdown",
   "metadata": {},
   "source": [
    "Once you get a feel for this workflow, you can quickly make plots using tens of thousands of stars. To make a plot showing the radial velocity and metallicity of all stars that are in quadrant 2, simply:\n",
    "\n",
    "- Define the spatial region of interest\n",
    "- Make sure the sample's [Fe/H] is 'clean' as we did for the Galactic plane sample above"
   ]
  },
  {
   "cell_type": "code",
   "execution_count": null,
   "metadata": {
    "collapsed": false
   },
   "outputs": [],
   "source": [
    "#Quadrant 2 is 90 < GLON < 180\n",
    "quadrant2 = (mainStar['GLON']>90) & (mainStar['GLON']<180)"
   ]
  },
  {
   "cell_type": "code",
   "execution_count": null,
   "metadata": {
    "collapsed": true
   },
   "outputs": [],
   "source": [
    "# The following 3 masks were already defined so they did NOT have to be recreated\n",
    "# Doing so here in case people jump to this example\n",
    "commission_mask = (mainStar['COMMISS']==0)\n",
    "starbad_mask = (mainStar['ASPCAPFLAG'] & 2**23 ==0)\n",
    "feh_mask = (mainStar['FE_H_FLAG'] & 2**0 ==0) & (mainStar['FE_H_FLAG'] & 2**1 ==0) & (mainStar['FE_H_FLAG'] & 2**2 ==0)\n",
    "\n",
    "good_quadrant2 = mainStar[quadrant2 & starbad_mask & commission_mask & feh_mask]\n",
    "plt.scatter(good_quadrant2['VHELIO_AVG'], good_quadrant2['FE_H'], edgecolor='none', alpha=0.2)\n",
    "plt.xlim(-150,90)\n",
    "plt.ylim(-0.8,0.4)\n",
    "plt.xlabel('LOS Velocity [km/s]', fontsize=14)\n",
    "plt.ylabel('[Fe/H]', fontsize=14)"
   ]
  },
  {
   "cell_type": "markdown",
   "metadata": {},
   "source": [
    "# 12 The Red Clump Catalog\n",
    "\n",
    "Description here. Distances! Because of distances, can make spatial map, similar to Nidever+ (2014). LINK\n",
    "\n",
    "To read catalog in, run EITHER the pyfits or the apogee code. The RC clump catalog will be automatically downloaded. If you have already downloaded the catalog from http://data.sdss3.org/sas/dr12/apogee/vac/apogee-rc/cat/apogee-rc-DR12.fits, the code will skip this step as long as the `data_directory` variable you defined earlier points to the location of the RC catalog.\n"
   ]
  },
  {
   "cell_type": "markdown",
   "metadata": {},
   "source": [
    "## 12.1 `pyfits` option (if running the cell below, SKIP the `apogee` module option below)"
   ]
  },
  {
   "cell_type": "code",
   "execution_count": null,
   "metadata": {
    "collapsed": false
   },
   "outputs": [],
   "source": [
    "import urllib # python module to optionally download catalog\n",
    "import pyfits\n",
    "\n",
    "\n",
    "rc_file = 'apogee-rc-DR12.fits'\n",
    "RCstar_localpath = data_directory+rc_file\n",
    "\n",
    "RCstar_file_link = 'http://data.sdss3.org/sas/dr12/apogee/vac/apogee-rc/cat/apogee-rc-DR12.fits'\n",
    "#Download allStar file if it does not exist\n",
    "if not os.path.exists(RCstar_localpath):\n",
    "    urllib.urlretrieve(RCstar_file_link, filename=RCstar_localpath)\n",
    "\n",
    "allRC_fits = pyfits.open(RCstar_localpath)\n",
    "allRC = allRC_fits[1].data #Takes data is HDU 1 and assigns it to allStar"
   ]
  },
  {
   "cell_type": "markdown",
   "metadata": {},
   "source": [
    "## 12.2 `apogee`  option (if running the cell below, you must have SKIPPED the `pyfits` module option above)"
   ]
  },
  {
   "cell_type": "code",
   "execution_count": null,
   "metadata": {
    "collapsed": true
   },
   "outputs": [],
   "source": [
    "os.environ['APOGEE_DATA'] = data_directory\n",
    "os.environ['APOGEE_REDUX'] = 'v603' #DR12 reduction version\n",
    "\n",
    "import apogee.tools.read as apread\n",
    "allRC= apread.rcsample()  #will automatically download if catalog not available\n",
    "print (\"Red Clump catalog file Loaded\")\n"
   ]
  },
  {
   "cell_type": "markdown",
   "metadata": {},
   "source": [
    "## 12.3 Red Clump Data Model\n",
    "\n",
    "All available data for the Red Clump sample is described by the data model at http://data.sdss3.org/datamodel/files/APOGEE_RC/cat/apogee-rc-DR12.html.\n",
    "Some interesting additional data fields available for RC stars:\n",
    "\n",
    "| Field     | dtype | Units     |Description                                                |\n",
    "|-----      |-----  | -----     |------------                                               |\n",
    "|RC_DIST\t|float64|\tkpc \t|Distance                                                   |\n",
    "|RC_DM\t    |float64|\t    \t|Distance modulus                                           |\n",
    "|RC_GALR\t|float64|\tkpc \t|Galactocentric distance assuming R0 = 8 kpc, Z0 = 25 pc    |\n",
    "|RC_GALPHI\t|float64|\tradians\t|Galactocentric azimuth assuming R0 = 8 kpc, Z0 = 25 pc     |\n",
    "|RC_GALZ\t|float64|\tkpc \t|Distance from the mid-plane assuming R0 = 8 kpc, Z0 = 25 pc|\n",
    "\n",
    "\n"
   ]
  },
  {
   "cell_type": "markdown",
   "metadata": {},
   "source": [
    "## 12.4 Plot: [$\\alpha$/Fe] vs. [Fe/H] for annulus of stars\n",
    "We can use the precise distances of RC stars to probe particular regions of the galaxy. For example, let's examine the [$\\alpha$/Fe] vs. [Fe/H] plane for stars with $6 < R_{\\mathrm{GC}} < 8$ kpc and $|z_{\\mathrm{GC}}| < 1$ kpc."
   ]
  },
  {
   "cell_type": "code",
   "execution_count": null,
   "metadata": {
    "collapsed": true
   },
   "outputs": [],
   "source": [
    "#define the spatial region of interest\n",
    "spatial_mask = np.logical_and(allRC['RC_GALR']>6, allRC['RC_GALR']<8) & (np.abs(allRC['RC_GALZ'])<1.0)\n",
    "\n",
    "RCannulus = allRC[spatial_mask]\n",
    "plt.hexbin(RCannulus['METALS'], RCannulus['ALPHAFE'], gridsize=30, mincnt=1)\n",
    "\n",
    "#'METALS' is technically [Z/H], but for our purposes, it is akin to [Fe/H]\n",
    "plt.xlabel('[Fe/H]', fontsize=16)\n",
    "plt.ylabel(r'[$\\alpha$/Fe]', fontsize=16)\n",
    "cb = plt.colorbar(label='Number of RC stars per bin')\n"
   ]
  },
  {
   "cell_type": "markdown",
   "metadata": {},
   "source": [
    "## YOUR HELP NEEDED\n",
    "If you've made it this far, THANK YOU. *Please* send me (Jon Bird) an email with any problems or suggestions you may have for the notebook. Also, could you vote on:\n",
    "\n",
    "1) Is the tone of the notebook appropriate? I wanted to make it approachable for very junior grad students?\n",
    "\n",
    "2) Would you like to see an example of an indivudal star spectrum and the ASPCAP model plotted over it?\n",
    "\n",
    "THANK YOU!!!"
   ]
  }
 ],
 "metadata": {
  "kernelspec": {
   "display_name": "Python 2",
   "language": "python",
   "name": "python2"
  },
  "language_info": {
   "codemirror_mode": {
    "name": "ipython",
    "version": 2
   },
   "file_extension": ".py",
   "mimetype": "text/x-python",
   "name": "python",
   "nbconvert_exporter": "python",
   "pygments_lexer": "ipython2",
   "version": "2.7.10"
  }
 },
 "nbformat": 4,
 "nbformat_minor": 0
}
